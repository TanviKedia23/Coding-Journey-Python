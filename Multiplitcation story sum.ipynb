{
 "cells": [
  {
   "cell_type": "code",
   "execution_count": 1,
   "id": "2873a0a7-fe37-4fe0-a200-312b14b72dc2",
   "metadata": {},
   "outputs": [
    {
     "name": "stdout",
     "output_type": "stream",
     "text": [
      "There are 25 lollipop in a packets.\n"
     ]
    }
   ],
   "source": [
    "#there is 5 lollipops in a packet so how many lollipops is there in 5 packet\n",
    "\n",
    "def lollipop():\n",
    "    lollipop = 5\n",
    "    lollipop_in_packet = 5\n",
    "    how_many = lollipop * lollipop_in_packet\n",
    "    return f\"There are {how_many} lollipop in a packets.\"\n",
    "\n",
    "print(lollipop())"
   ]
  },
  {
   "cell_type": "code",
   "execution_count": 2,
   "id": "012aa51e-1ad2-436a-93dd-1dcb8b171731",
   "metadata": {},
   "outputs": [
    {
     "name": "stdin",
     "output_type": "stream",
     "text": [
      "lollipops: 1000\n",
      "lollipops in packet: 555\n"
     ]
    },
    {
     "name": "stdout",
     "output_type": "stream",
     "text": [
      "There are 555000 lollipop in a packets.\n"
     ]
    }
   ],
   "source": [
    "#there is 5 lollipops in a packet so how many lollipops is there in 5 packet\n",
    "\n",
    "def lollipop():\n",
    "    lollipop = int(input(\"lollipops:\"))\n",
    "    lollipop_in_packet = int(input(\"lollipops in packet:\"))\n",
    "    how_many = lollipop * lollipop_in_packet\n",
    "    return f\"There are {how_many} lollipop in a packets.\"\n",
    "\n",
    "print(lollipop())"
   ]
  },
  {
   "cell_type": "code",
   "execution_count": 4,
   "id": "b8f70586-cc7a-4f69-aa07-ce2273f57965",
   "metadata": {},
   "outputs": [
    {
     "name": "stdout",
     "output_type": "stream",
     "text": [
      "There are 25 lollipop in a packets.\n"
     ]
    }
   ],
   "source": [
    "#there is 5 lollipops in a packet so how many lollipops is there in 5 packet\n",
    "\n",
    "lollipop_story = lambda lollipop,packet: (lollipop*packet)\n",
    "\n",
    "how_many=lollipop_story(5,5)\n",
    "\n",
    "print(f\"There are {how_many} lollipop in a packets.\")"
   ]
  },
  {
   "cell_type": "code",
   "execution_count": null,
   "id": "2434505b-0112-4c41-b36a-2834882ab2d0",
   "metadata": {},
   "outputs": [],
   "source": []
  }
 ],
 "metadata": {
  "kernelspec": {
   "display_name": "Python 3 (ipykernel)",
   "language": "python",
   "name": "python3"
  },
  "language_info": {
   "codemirror_mode": {
    "name": "ipython",
    "version": 3
   },
   "file_extension": ".py",
   "mimetype": "text/x-python",
   "name": "python",
   "nbconvert_exporter": "python",
   "pygments_lexer": "ipython3",
   "version": "3.12.7"
  }
 },
 "nbformat": 4,
 "nbformat_minor": 5
}
