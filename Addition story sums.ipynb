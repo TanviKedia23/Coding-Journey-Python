{
 "cells": [
  {
   "cell_type": "code",
   "execution_count": 6,
   "id": "34f83388-1b85-4932-9826-121fbbe2de5a",
   "metadata": {},
   "outputs": [
    {
     "name": "stdout",
     "output_type": "stream",
     "text": [
      "Both sister brought 3\n"
     ]
    }
   ],
   "source": [
    "#Tanu brought 2 chips today and Devika brought1 chips\n",
    "\n",
    "def Tanu_Debu():\n",
    "    Tanu= 2\n",
    "    Debu= 1\n",
    "    chips_addition=Tanu+Debu\n",
    "    return f\"Both sister brought {chips_addition}\"\n",
    "\n",
    "print(Tanu_Debu())"
   ]
  },
  {
   "cell_type": "code",
   "execution_count": 5,
   "id": "46cec588-bd37-4de5-949b-429da86b331f",
   "metadata": {},
   "outputs": [
    {
     "name": "stdout",
     "output_type": "stream",
     "text": [
      "Both sister brought 3\n"
     ]
    }
   ],
   "source": [
    "#Tanu brought 2 chips today and Devika brought1 chips\n",
    "\n",
    "Tanu_Debu = lambda Tanu,debu:Tanu+debu\n",
    "result = Tanu_Debu(2,1)\n",
    "print(f\"Both sister brought {result}\")"
   ]
  },
  {
   "cell_type": "code",
   "execution_count": 2,
   "id": "9e92d2dc-3f3a-4e31-bb5a-42b43414164c",
   "metadata": {},
   "outputs": [
    {
     "name": "stdin",
     "output_type": "stream",
     "text": [
      "Tanu brought: 50\n",
      "Debu brought: 40\n"
     ]
    },
    {
     "name": "stdout",
     "output_type": "stream",
     "text": [
      "Both sister brought 90\n"
     ]
    }
   ],
   "source": [
    "#### Tanu brought 2 chips today and Devika brought1 chips\n",
    "\n",
    "def Tanu_Debu():\n",
    "    Tanu= int(input(\"Tanu brought:\"))\n",
    "    Debu= int(input(\"Debu brought:\"))\n",
    "    chips_addition=Tanu+Debu\n",
    "    return f\"Both sister brought {chips_addition}\"\n",
    "\n",
    "print(Tanu_Debu())"
   ]
  },
  {
   "cell_type": "code",
   "execution_count": null,
   "id": "ea0c1354-3848-406c-92d5-8cd44cf258e6",
   "metadata": {},
   "outputs": [],
   "source": []
  }
 ],
 "metadata": {
  "kernelspec": {
   "display_name": "Python 3 (ipykernel)",
   "language": "python",
   "name": "python3"
  },
  "language_info": {
   "codemirror_mode": {
    "name": "ipython",
    "version": 3
   },
   "file_extension": ".py",
   "mimetype": "text/x-python",
   "name": "python",
   "nbconvert_exporter": "python",
   "pygments_lexer": "ipython3",
   "version": "3.12.7"
  }
 },
 "nbformat": 4,
 "nbformat_minor": 5
}
