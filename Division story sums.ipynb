{
 "cells": [
  {
   "cell_type": "code",
   "execution_count": 6,
   "id": "1c0d762c-6856-4ca1-85af-8667068d6b08",
   "metadata": {},
   "outputs": [
    {
     "name": "stdout",
     "output_type": "stream",
     "text": [
      "Tanu distributed 5 choclates.\n"
     ]
    }
   ],
   "source": [
    "#Tanu had 25 choclates. she wants to distribute among five students.how mamy choclates she will distribute to each children?\n",
    "\n",
    "def choclate_stroy():\n",
    "    Tanu= 25\n",
    "    children= 5\n",
    "    division=Tanu // children\n",
    "    return f\"Tanu distributed {division} choclates.\"\n",
    "\n",
    "print(choclate_stroy())"
   ]
  },
  {
   "cell_type": "code",
   "execution_count": 7,
   "id": "da8269b5-c013-4c82-9242-be210d1a9b45",
   "metadata": {},
   "outputs": [
    {
     "name": "stdin",
     "output_type": "stream",
     "text": [
      "enter a number: 1000\n",
      "enter a number: 50\n"
     ]
    },
    {
     "name": "stdout",
     "output_type": "stream",
     "text": [
      "Tanu distributed 20 choclates.\n"
     ]
    }
   ],
   "source": [
    "#Tanu had 25 choclates. she wants to distribute among five students.how mamy choclates she will distribute to each children?\n",
    "\n",
    "def choclate_stroy():\n",
    "    Tanu= int(input(\"enter a number:\"))\n",
    "    children= int(input(\"enter a number:\"))\n",
    "    division=Tanu // children\n",
    "    return f\"Tanu distributed {division} choclates.\"\n",
    "\n",
    "print(choclate_stroy())"
   ]
  },
  {
   "cell_type": "code",
   "execution_count": 9,
   "id": "484ff313-b596-475d-8fb6-7edebb4a91e5",
   "metadata": {},
   "outputs": [
    {
     "name": "stdout",
     "output_type": "stream",
     "text": [
      "Tanu distributed 5 choclates.\n"
     ]
    }
   ],
   "source": [
    "#Tanu had 25 choclates. she wants to distribute among five students.how mamy choclates she will distribute to each children?\n",
    "\n",
    "choclate_stroy = lambda tanu,children:tanu//children\n",
    "\n",
    "division = choclate_stroy(25,5)\n",
    "\n",
    "print(f\"Tanu distributed {division} choclates.\")"
   ]
  },
  {
   "cell_type": "code",
   "execution_count": null,
   "id": "fdb4805b-6d44-482d-ad50-b1e2a4cb1282",
   "metadata": {},
   "outputs": [],
   "source": []
  }
 ],
 "metadata": {
  "kernelspec": {
   "display_name": "Python 3 (ipykernel)",
   "language": "python",
   "name": "python3"
  },
  "language_info": {
   "codemirror_mode": {
    "name": "ipython",
    "version": 3
   },
   "file_extension": ".py",
   "mimetype": "text/x-python",
   "name": "python",
   "nbconvert_exporter": "python",
   "pygments_lexer": "ipython3",
   "version": "3.12.7"
  }
 },
 "nbformat": 4,
 "nbformat_minor": 5
}
