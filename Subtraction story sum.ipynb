{
 "cells": [
  {
   "cell_type": "code",
   "execution_count": 3,
   "id": "9b2923b5-1670-470a-881d-3ddf1c7f64d4",
   "metadata": {},
   "outputs": [
    {
     "name": "stdout",
     "output_type": "stream",
     "text": [
      "50 cupcakes left with her\n"
     ]
    }
   ],
   "source": [
    "# tanvi brought 100 cupcake. She distributed 50 cupcake in her class. How many cupcakes left with her?\n",
    "\n",
    "def Tanu_cupcake():\n",
    "    Tanu= 100\n",
    "    in_class= 50\n",
    "    distributed=Tanu-in_class\n",
    "    return f\"{distributed} cupcakes left with her\"\n",
    "\n",
    "print(Tanu_cupcake())"
   ]
  },
  {
   "cell_type": "code",
   "execution_count": 4,
   "id": "ce41a91c-9fdb-46e7-97d5-bdd4f8c7bf25",
   "metadata": {},
   "outputs": [
    {
     "name": "stdin",
     "output_type": "stream",
     "text": [
      "Tanu brought cupcakes: 1000\n",
      "Tanu distributed: 100\n"
     ]
    },
    {
     "name": "stdout",
     "output_type": "stream",
     "text": [
      "900 cupcakes left with her\n"
     ]
    }
   ],
   "source": [
    "# tanvi brought 100 cupcake. She distributed 50 cupcake in her class. How many cupcakes left with her?\n",
    "\n",
    "def Tanu_cupcake():\n",
    "    Tanu= int(input(\"Tanu brought cupcakes:\"))\n",
    "    in_class= int(input(\"Tanu distributed:\"))\n",
    "    distributed=Tanu-in_class\n",
    "    return f\"{distributed} cupcakes left with her\"\n",
    "\n",
    "print(Tanu_cupcake())"
   ]
  },
  {
   "cell_type": "code",
   "execution_count": 6,
   "id": "83d8b29d-b401-49ac-805b-a980f63f2f99",
   "metadata": {},
   "outputs": [
    {
     "name": "stdout",
     "output_type": "stream",
     "text": [
      "50 cupcakes left with her\n"
     ]
    }
   ],
   "source": [
    "# tanvi brought 100 cupcake. She distributed 50 cupcake in her class. How many cupcakes left with her?\n",
    "\n",
    "Tanu_cupcake = lambda Tanu,in_class:Tanu-in_class\n",
    "distributed = Tanu_cupcake(100,50)\n",
    "print(f\"{distributed} cupcakes left with her\")"
   ]
  },
  {
   "cell_type": "code",
   "execution_count": null,
   "id": "de797f9f-6d7b-4c41-8fe5-cc4ef9b3119c",
   "metadata": {},
   "outputs": [],
   "source": []
  },
  {
   "cell_type": "code",
   "execution_count": null,
   "id": "499b7133-60da-4487-ab91-d7cb7828bf2a",
   "metadata": {},
   "outputs": [],
   "source": []
  }
 ],
 "metadata": {
  "kernelspec": {
   "display_name": "Python 3 (ipykernel)",
   "language": "python",
   "name": "python3"
  },
  "language_info": {
   "codemirror_mode": {
    "name": "ipython",
    "version": 3
   },
   "file_extension": ".py",
   "mimetype": "text/x-python",
   "name": "python",
   "nbconvert_exporter": "python",
   "pygments_lexer": "ipython3",
   "version": "3.12.7"
  }
 },
 "nbformat": 4,
 "nbformat_minor": 5
}
